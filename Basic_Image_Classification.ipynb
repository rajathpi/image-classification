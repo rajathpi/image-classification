{
  "nbformat": 4,
  "nbformat_minor": 0,
  "metadata": {
    "kernelspec": {
      "display_name": "Python 3",
      "language": "python",
      "name": "python3"
    },
    "language_info": {
      "codemirror_mode": {
        "name": "ipython",
        "version": 3
      },
      "file_extension": ".py",
      "mimetype": "text/x-python",
      "name": "python",
      "nbconvert_exporter": "python",
      "pygments_lexer": "ipython3",
      "version": "3.6.8"
    },
    "colab": {
      "name": "Basic Image Classification.ipynb",
      "provenance": [],
      "collapsed_sections": [],
      "include_colab_link": true
    }
  },
  "cells": [
    {
      "cell_type": "markdown",
      "metadata": {
        "id": "view-in-github",
        "colab_type": "text"
      },
      "source": [
        "<a href=\"https://colab.research.google.com/github/rajathpi/image-classification/blob/main/Basic_Image_Classification.ipynb\" target=\"_parent\"><img src=\"https://colab.research.google.com/assets/colab-badge.svg\" alt=\"Open In Colab\"/></a>"
      ]
    },
    {
      "cell_type": "markdown",
      "metadata": {
        "id": "uRLwTidQ5TV-"
      },
      "source": [
        "# Basic Image Classification using Tensorflow"
      ]
    },
    {
      "cell_type": "code",
      "metadata": {
        "id": "k-suD9sMAitN"
      },
      "source": [
        "!pip install tensorflow"
      ],
      "execution_count": null,
      "outputs": []
    },
    {
      "cell_type": "markdown",
      "metadata": {
        "id": "Hgdl9UC95qjH"
      },
      "source": [
        "Installing tensflow"
      ]
    },
    {
      "cell_type": "code",
      "metadata": {
        "id": "NwKKO0pHAMcU",
        "colab": {
          "base_uri": "https://localhost:8080/"
        },
        "outputId": "19141e78-a3b4-4915-835f-9897ce57be2d"
      },
      "source": [
        "import tensorflow as tf\n",
        "\n",
        "print('Using TensorFlow version', tf.__version__)"
      ],
      "execution_count": null,
      "outputs": [
        {
          "output_type": "stream",
          "text": [
            "Using TensorFlow version 2.3.0\n"
          ],
          "name": "stdout"
        }
      ]
    },
    {
      "cell_type": "markdown",
      "metadata": {
        "id": "VLvFX6Qf5usk"
      },
      "source": [
        "Importing Tensorflow"
      ]
    },
    {
      "cell_type": "markdown",
      "metadata": {
        "id": "pQJPuUqbAMch"
      },
      "source": [
        "#The Dataset\n",
        "\n",
        "In order to understand our problem better, we will first import the data that we'd be working with and take a closer look at it. We are going to use the  MNIST dataset which has lots of images of hand-written digits along with their labels."
      ]
    },
    {
      "cell_type": "code",
      "metadata": {
        "id": "Ab3-us3tAMcj"
      },
      "source": [
        "from tensorflow.keras.datasets import mnist\n",
        "\n",
        "(x_train, y_train), (x_test, y_test) = mnist.load_data()"
      ],
      "execution_count": null,
      "outputs": []
    },
    {
      "cell_type": "code",
      "metadata": {
        "id": "rzG2lJ4DAMct",
        "colab": {
          "base_uri": "https://localhost:8080/"
        },
        "outputId": "e0be9d5a-c12b-4056-febb-24cf09667531"
      },
      "source": [
        "print('x_train shape: ', x_train.shape)\n",
        "print('y_train shape: ', y_train.shape)\n",
        "print('x_test shape: ', x_test.shape)\n",
        "print('y_test shape: ', y_test.shape)"
      ],
      "execution_count": null,
      "outputs": [
        {
          "output_type": "stream",
          "text": [
            "x_train shape:  (60000, 28, 28)\n",
            "y_train shape:  (60000,)\n",
            "x_test shape:  (10000, 28, 28)\n",
            "y_test shape:  (10000,)\n"
          ],
          "name": "stdout"
        }
      ]
    },
    {
      "cell_type": "code",
      "metadata": {
        "id": "sgy3Gq-bAMc1",
        "colab": {
          "base_uri": "https://localhost:8080/",
          "height": 265
        },
        "outputId": "e86274ad-6d46-4507-895c-ea5830dfeb81"
      },
      "source": [
        "import matplotlib.pyplot as plt\n",
        "%matplotlib inline\n",
        "\n",
        "plt.imshow(x_train[0], cmap = 'binary')\n",
        "plt.show()"
      ],
      "execution_count": null,
      "outputs": [
        {
          "output_type": "display_data",
          "data": {
            "image/png": "[encoded data removed]",
            "text/plain": [
              "<Figure size 432x288 with 1 Axes>"
            ]
          },
          "metadata": {
            "tags": [],
            "needs_background": "light"
          }
        }
      ]
    },
    {
      "cell_type": "code",
      "metadata": {
        "id": "gdiYs8_sAMc9",
        "colab": {
          "base_uri": "https://localhost:8080/"
        },
        "outputId": "0f6491bf-a23c-4793-c995-10c9e48c50ac"
      },
      "source": [
        "y_train[0]"
      ],
      "execution_count": null,
      "outputs": [
        {
          "output_type": "execute_result",
          "data": {
            "text/plain": [
              "5"
            ]
          },
          "metadata": {
            "tags": []
          },
          "execution_count": 33
        }
      ]
    },
    {
      "cell_type": "code",
      "metadata": {
        "id": "G-K9Q7WSAMdF",
        "colab": {
          "base_uri": "https://localhost:8080/"
        },
        "outputId": "84c7776b-962a-4e4e-cf3e-a567317ca286"
      },
      "source": [
        "y_train[:10]"
      ],
      "execution_count": null,
      "outputs": [
        {
          "output_type": "execute_result",
          "data": {
            "text/plain": [
              "array([5, 0, 4, 1, 9, 2, 1, 3, 1, 4], dtype=uint8)"
            ]
          },
          "metadata": {
            "tags": []
          },
          "execution_count": 34
        }
      ]
    },
    {
      "cell_type": "markdown",
      "metadata": {
        "id": "B11DQ28tAMdb"
      },
      "source": [
        "# One Hot Encoding\n",
        "\n",
        "We will change the way this label is represented from a class name or number to a list of all possible classes with all the classes set to 0 except the one which this example belongs to - which will be set to 1. \n",
        "\n",
        "\n",
        "| original label | one-hot encoded label |\n",
        "|------|------|\n",
        "| 5 | [0, 0, 0, 0, 0, 1, 0, 0, 0, 0] |\n",
        "| 7 | [0, 0, 0, 0, 0, 0, 0, 1, 0, 0] |\n"
      ]
    },
    {
      "cell_type": "code",
      "metadata": {
        "id": "x2AcznNRAMde"
      },
      "source": [
        "from tensorflow.keras.utils import to_categorical\n",
        "\n",
        "y_train_encoded = to_categorical(y_train)\n",
        "y_test_encoded = to_categorical(y_test)"
      ],
      "execution_count": null,
      "outputs": []
    },
    {
      "cell_type": "markdown",
      "metadata": {
        "id": "F8ZqcUIpAMdp"
      },
      "source": [
        "To make sure the encoding worked, we check the shape of the encoded labels."
      ]
    },
    {
      "cell_type": "code",
      "metadata": {
        "id": "SnTtplFvAMdq",
        "colab": {
          "base_uri": "https://localhost:8080/"
        },
        "outputId": "375dc1b6-4799-444c-937f-b40243cfc44b"
      },
      "source": [
        "print('y_train shape: ', y_train_encoded.shape)\n",
        "print('y_test shape: ', y_test_encoded.shape)"
      ],
      "execution_count": null,
      "outputs": [
        {
          "output_type": "stream",
          "text": [
            "y_train shape:  (60000, 10)\n",
            "y_test shape:  (10000, 10)\n"
          ],
          "name": "stdout"
        }
      ]
    },
    {
      "cell_type": "markdown",
      "metadata": {
        "id": "doIYIOoNAMdw"
      },
      "source": [
        "And just like before, we also take a look at the first label and make sure that encoding is correct:"
      ]
    },
    {
      "cell_type": "code",
      "metadata": {
        "id": "cevtjhSsAMdy",
        "colab": {
          "base_uri": "https://localhost:8080/"
        },
        "outputId": "25792c4d-5666-477b-c914-146501b5883b"
      },
      "source": [
        "y_train_encoded[0]"
      ],
      "execution_count": null,
      "outputs": [
        {
          "output_type": "execute_result",
          "data": {
            "text/plain": [
              "array([0., 0., 0., 0., 0., 1., 0., 0., 0., 0.], dtype=float32)"
            ]
          },
          "metadata": {
            "tags": []
          },
          "execution_count": 18
        }
      ]
    },
    {
      "cell_type": "markdown",
      "metadata": {
        "id": "asaFhtJ1AMd4"
      },
      "source": [
        "# Neural Networks\n",
        "\n",
        "Consider the following graph:\n",
        "\n",
        "![Single Neuron](images/1_2.png)\n",
        "\n",
        "The above graph simply represents the equation:\n",
        "\n",
        "\\begin{equation}\n",
        "y = w1 * x1 + w2 * x2 + w3 * x3 + b\n",
        "\\end{equation}\n",
        "\n",
        "Where the `w1, w2, w3` are called the weights and `b` is an intercept term called bias. The graph above, therefore, is simply a graphical representation of a simple linear equation. The equation can also be *vectorised* like this:\n",
        "\n",
        "\\begin{equation}\n",
        "y = W . X + b\n",
        "\\end{equation}\n",
        "\n",
        "Where `X = [x1, x2, x3]` and `W = [w1, w2, w3].T`. The .T means *transpose*. This is because we want the dot product to give us the result we want i.e. `w1 * x1 + w2 * x2 + w3 * x3`. This gives us the vectorised version of our linear equation.\n",
        "\n",
        "What we are trying to ask, essentially, is if given a large amount of data (pairs of X and corresponding y), can we write an algorithm to figure out the optimal values of W and b? We need to find a way for our model to find the *optimal* values for W and b and not the absolute values. Absolute values probably don't even exist given the limitations of our mathematical model since we are *assuming* a linear function for a problem where it might be a much more complex one in reality and we don't know what that function is.\n",
        "\n",
        "By taking the observed data and a proposed model, we want to write an algorithm to learn the values for W and b which best fit the data and ultimately, by doing that, we learn an approximate function which maps the inputs to outputs of our data. This type of algorithm is called an _optimization_ algorithm and there are a few different optimization algorithms that are typically used in training neural networks.\n",
        "\n",
        "In our problem, our examples are of shape`(60000, 28, 28)`. The first dimension is simply the number of examples we have, so each example is of the shape `(28, 28)`. If we unroll this array into a single dimension, it will become a `28 * 28 = 784` dimensional vector. Now, it can probably be modeled somewhat like a linear equation, right? Given features from `x1` to `x784`, we get an output `y`. Here, each pixel value is a feature in our examples.\n",
        "\n",
        "![Single Neuron with 784 features](images/1_3.png)\n",
        "\n",
        "This may actually work for really simple problems but in our case, this model will turn out to be insufficient.\n",
        "\n",
        "Turns out, we can learn much more complex functions by simply *cascading* the linear functions one after the other. The only additional thing that a node in a neural network does (as opposed to a node in a linear equation shown above) is that an activation function is applied to each linear output. The purpose of an activation functions is to help the neural network find non-linear patterns in the data because if we just cascaded the neurons or nodes like the ones described above, even with many layers of cascaded linear functions, the result will still be a linear function which means that, after training the mode, it will learn a linear function that best fit the data. This is a problem because in many, if not most cases, the input to output map is going to be much more complex than a linear function. So, the activation gives the model more flexibility, and allows the model to be able to learn non-linear patterns.\n",
        "\n",
        "Now, instead of setting y to a weighted sum of our input features, we can get a few hidden outputs which are weighted sums of our input features passed through an activation function and then get the weighted sums of those hidden outputs and so on. We do this a few times, and then get to our output y. This type of model gives our algorithm a much greater chance of learning a complex function.\n",
        "\n",
        "![Neural Network with 2 hidden layers](images/1_4.png)\n",
        "\n",
        "In the network above, we have two *hidden layers*. The first layer with all the X features is called the input layer and the output y is called the output layer. In this example, the output has only one __node__. The hidden layer can have a lot of nodes or a very few nodes depending on how complex the problem may be. Here, both the hidden layer have 2 nodes each. Each node gives the output of a linear function after the linear output passes through an activation function, and takes inputs from each node of the preceding layer. All the W's and all the b's associated with all of these functions will have to be \"learned\" by our algorithm as it attempts to optimize those values in order to best fit the given data. Note that the total number of learnable parameters in any layer depend on the number of nodes in that layer as well as on the number of nodes in the preceding layer. For example, learnable parameters for __hidden layer 1__ can be calculated as: (number of nodes of the layer) * (number of nodes of preceding layer) + (number of nodes of the layer). Why? The first part is obvious: if every node of a layer is connected to every node of the preceding layer, we can simply multiply the number of nodes of these two layers to get the total number of weight parameters. Also, the __bias__ from previous layer would be connected to each node in the layer as well - that gives us the second term. So, for __hidden layer 1__, we get: `2 * 2 + 2 = 6` learnable parameters.\n",
        "\n",
        "In the hand-written digit classification problem, we will have 128 nodes for two hidden layers, we will have 10 nodes for the output layer with each node corresponding to one output class, and of course we already know that the input is a 784 dimensional vector."
      ]
    },
    {
      "cell_type": "markdown",
      "metadata": {
        "id": "Df33_iStAMd6"
      },
      "source": [
        "# Preprocessing the Examples\n",
        "\n",
        "We will create a Neural Network which will take 784 dimensional vectors as inputs (28 rows * 28 columns) and will output a 10 dimensional vector (For the 10 classes). We have already converted the outputs to 10 dimensional, one-hot encoded vectors. Now, let's convert the input to the required format as well. We will use numpy to easily unroll the examples from `(28, 28)` arrays to `(784, 1)` vectors."
      ]
    },
    {
      "cell_type": "code",
      "metadata": {
        "id": "LFU2n39bAMd7",
        "colab": {
          "base_uri": "https://localhost:8080/"
        },
        "outputId": "d249941e-023e-4f77-a47b-efcf2495ca37"
      },
      "source": [
        "import numpy as np\n",
        "\n",
        "x_train_reshaped = np.reshape(x_train, (60000, 784))\n",
        "x_test_reshaped = np.reshape(x_test, (10000, 784))\n",
        "\n",
        "print('x_train_reshaped shape: ', x_train_reshaped.shape)\n",
        "print('x_test_reshaped shape: ', x_test_reshaped.shape)"
      ],
      "execution_count": null,
      "outputs": [
        {
          "output_type": "stream",
          "text": [
            "x_train_reshaped shape:  (60000, 784)\n",
            "x_test_reshaped shape:  (10000, 784)\n"
          ],
          "name": "stdout"
        }
      ]
    },
    {
      "cell_type": "markdown",
      "metadata": {
        "id": "SCEIuJNKAMeC"
      },
      "source": [
        "Each element in each example is a pixel value. Let's take a look at a few values of just one example."
      ]
    },
    {
      "cell_type": "code",
      "metadata": {
        "id": "fZzV1VnlAMeE",
        "colab": {
          "base_uri": "https://localhost:8080/"
        },
        "outputId": "f98640a8-691a-4526-c0fb-80911c3d272a"
      },
      "source": [
        "print(set(x_train_reshaped[0]))"
      ],
      "execution_count": null,
      "outputs": [
        {
          "output_type": "stream",
          "text": [
            "{0, 1, 2, 3, 9, 11, 14, 16, 18, 23, 24, 25, 26, 27, 30, 35, 36, 39, 43, 45, 46, 49, 55, 56, 64, 66, 70, 78, 80, 81, 82, 90, 93, 94, 107, 108, 114, 119, 126, 127, 130, 132, 133, 135, 136, 139, 148, 150, 154, 156, 160, 166, 170, 171, 172, 175, 182, 183, 186, 187, 190, 195, 198, 201, 205, 207, 212, 213, 219, 221, 225, 226, 229, 238, 240, 241, 242, 244, 247, 249, 250, 251, 252, 253, 255}\n"
          ],
          "name": "stdout"
        }
      ]
    },
    {
      "cell_type": "markdown",
      "metadata": {
        "id": "QX9RhHy9AMeM"
      },
      "source": [
        "Pixel values, in this dataset, range from 0 to 255. While that's fine if we want to display our images, for our neural network to learn the weights and biases for different layers, computations will be simply much more effective and fast if we *normalized* these values. In order to normalize the data, we can calculate the mean and standard deviation for each example."
      ]
    },
    {
      "cell_type": "code",
      "metadata": {
        "id": "fKa4SP2IAMeP",
        "colab": {
          "base_uri": "https://localhost:8080/"
        },
        "outputId": "d36443b9-b122-41c4-f018-fbbbbd3b5196"
      },
      "source": [
        "x_mean = np.mean(x_train_reshaped)\n",
        "x_std = np.std(x_train_reshaped)\n",
        "\n",
        "print('mean: ', x_mean)\n",
        "print('std: ', x_std)"
      ],
      "execution_count": null,
      "outputs": [
        {
          "output_type": "stream",
          "text": [
            "mean:  33.318421449829934\n",
            "std:  78.56748998339798\n"
          ],
          "name": "stdout"
        }
      ]
    },
    {
      "cell_type": "markdown",
      "metadata": {
        "id": "knpPCb_EAMec"
      },
      "source": [
        "Now we will normalise both the training and test set using the mean and standard deviation we just calculated. Notice that we will need to apply the same mean and standard deviation to the test set even though we did not use the test set to calculate these values."
      ]
    },
    {
      "cell_type": "code",
      "metadata": {
        "id": "Ml5arv54AMed"
      },
      "source": [
        "epsilon = 1e-10\n",
        "x_train_norm = (x_train_reshaped - x_mean)/(x_std + epsilon)\n",
        "x_test_norm = (x_test_reshaped - x_mean)/(x_std + epsilon)"
      ],
      "execution_count": null,
      "outputs": []
    },
    {
      "cell_type": "markdown",
      "metadata": {
        "id": "NBu8DDlZAMek"
      },
      "source": [
        "Note how we added a small value to our denominator. This is because, just in case if our std was close to zero, we'd get very large values as a result. In this case, that's obviously not true but we added this anyway as a good practice since this is typically done to ensure numerical stability.\n",
        "\n",
        "We looked at some of the values for the first training example before. Let's take a look at it again, after having normalised the values."
      ]
    },
    {
      "cell_type": "code",
      "metadata": {
        "id": "42LXfl9RAMel",
        "colab": {
          "base_uri": "https://localhost:8080/"
        },
        "outputId": "034b4134-1a19-4933-813e-90567b016591"
      },
      "source": [
        "print(set(x_train_norm[0]))"
      ],
      "execution_count": null,
      "outputs": [
        {
          "output_type": "stream",
          "text": [
            "{-0.38589016215482896, 1.306921966983251, 1.17964285952926, 1.803310486053816, 1.6887592893452241, 2.8215433456857437, 2.719720059722551, 1.1923707702746593, 1.7396709323268205, 2.057868700961798, 2.3633385588513764, 2.096052433197995, 1.7651267538176187, 2.7960875241949457, 2.7451758812133495, 2.45243393406917, 0.02140298169794222, -0.22042732246464067, 1.2305545025108566, 0.2759611966059242, 2.210603629906587, 2.6560805059955555, 2.6051688630139593, -0.4240738943910262, 0.4668798577869107, 0.1486820891519332, 0.3905123933145161, 1.0905474843114664, -0.09314821501064967, 1.4851127174188385, 2.7579037919587486, 1.5360243604004349, 0.07231462467953861, -0.13133194724684696, 1.294194056237852, 0.03413089244334132, 1.3451056992194483, 2.274243183633583, -0.24588314395543887, 0.772349715676489, 0.75962180493109, 0.7214380726948927, 0.1995937321335296, -0.41134598364562713, 0.5687031437501034, 0.5941589652409017, 0.9378125553666773, 0.9505404661120763, 0.6068868759863008, 0.4159682148053143, -0.042236572029053274, 2.7706317027041476, 2.1342361654341926, 0.12322626766113501, -0.08042030426525057, 0.16140999989733232, 1.8924058612716097, 1.2560103240016547, 2.185147808415789, 0.6196147867316999, 1.943317504253206, -0.11860403650144787, -0.30952269768243434, 1.9942291472348024, -0.2840668761916362, 2.6306246845047574, 2.286971094378982, -0.19497150097384247, -0.39861807290022805, 0.2886891073513233, 1.7523988430722195, 2.3887943803421745, 2.681536327486354, 1.4596568959280403, 2.439706023323771, 2.7833596134495466, 2.490617666305367, -0.10587612575604877, 1.5614801818912332, 1.9051337720170087, 1.6123918248728295, 1.268738234747054, 1.9560454149986053, 2.6433525952501564, 1.026907930584471}\n"
          ],
          "name": "stdout"
        }
      ]
    },
    {
      "cell_type": "markdown",
      "metadata": {
        "id": "M0BQSCgtAMes"
      },
      "source": [
        "# Creating a Model\n",
        "\n",
        "We use a Sequential class defined in Keras to create our model. All the layers are going to be Dense layers. This means, like our examples above, all the nodes of a layer would be connected to all the nodes of the preceding layer i.e. densely connected."
      ]
    },
    {
      "cell_type": "code",
      "metadata": {
        "id": "N6ctfBJgAMeu"
      },
      "source": [
        "from tensorflow.keras.models import Sequential\n",
        "from tensorflow.keras.layers import Dense\n",
        "\n",
        "model = Sequential([\n",
        "    Dense(128, activation = 'relu', input_shape = (784,)),\n",
        "    Dense(128, activation = 'relu'),\n",
        "    Dense(10, activation = 'softmax')\n",
        "])"
      ],
      "execution_count": null,
      "outputs": []
    },
    {
      "cell_type": "markdown",
      "metadata": {
        "id": "ya6MQYm2AMe0"
      },
      "source": [
        "Let's understand the code above. We are instantiating a Sequential model. We pass on a list of layers that we want in our model, in the order that we want them. So, we have two hidden layers with 128 nodes each and one output layer with 10 nodes. We set the input shape on the first hidden layer to correspond to the shape of a single example from our reshaped training and test sets - we know each example is a 784 dimensional vector for the 784 pixels of the images.\n",
        "\n",
        "We have talked about each node having a weighted sum of the inputs of the preceding layer. And, before this sum is fed to the next layer's nodes, it goes through another function called an activation function. So, each node actually does two things. First step is the weighted sum, let's call it Z:\n",
        "\n",
        "\\begin{equation}\n",
        "Z = W . X + b\n",
        "\\end{equation}\n",
        "\n",
        "The second step in the node is the activation function output, let's call it A:\n",
        "\n",
        "\\begin{equation}\n",
        "A = f(Z)\n",
        "\\end{equation}\n",
        "\n",
        "There are various types of activation functions used in Neural Networks. One of the more common ones is a rectified linear unit of ReLU function. It's a pretty simple function: it's a linear function for all the positive values and is simply set to `0` for all the negative values. Something like this:\n",
        "\n",
        "![Linear Sum and Activation Function](images/1_5.png)\n",
        "\n",
        "Another activation function we are using is called *softmax*. This function gives us probability scores for various nodes, in this case 10 nodes of the output layer, which sum upto 1. This activation gives us the probabilities for various classes given the input. The class with the highest probability gives us our prediction.\n",
        "\n",
        "In addition to setting up our model architecture, we also need to define which algorithm should the model use in order to optimize the weights and biases as per the given data. We will use stochastic gradient descent.\n",
        "\n",
        "We also need to define a loss function. Think of this function as the difference between the predicted outputs and the actual outputs given in the dataset. This loss needs to be minimised in order to have a higher model accuracy. That's what the optimasation algorithm essentially does - it minimises the loss during model training. For our multi-class classification problem, *categorical cross entropy* is commonly used.\n",
        "\n",
        "Finally, we will use the accuracy during training as a metric to keep track of as the model trains."
      ]
    },
    {
      "cell_type": "code",
      "metadata": {
        "id": "rfhdfN3UAMe2",
        "colab": {
          "base_uri": "https://localhost:8080/"
        },
        "outputId": "511a3b8d-8975-46f3-b4d9-586e576e72a6"
      },
      "source": [
        "model.compile(\n",
        "    optimizer = 'sgd',\n",
        "    loss = 'categorical_crossentropy',\n",
        "    metrics = ['accuracy']\n",
        ")\n",
        "\n",
        "model.summary()"
      ],
      "execution_count": null,
      "outputs": [
        {
          "output_type": "stream",
          "text": [
            "Model: \"sequential\"\n",
            "_________________________________________________________________\n",
            "Layer (type)                 Output Shape              Param #   \n",
            "=================================================================\n",
            "dense (Dense)                (None, 128)               100480    \n",
            "_________________________________________________________________\n",
            "dense_1 (Dense)              (None, 128)               16512     \n",
            "_________________________________________________________________\n",
            "dense_2 (Dense)              (None, 10)                1290      \n",
            "=================================================================\n",
            "Total params: 118,282\n",
            "Trainable params: 118,282\n",
            "Non-trainable params: 0\n",
            "_________________________________________________________________\n"
          ],
          "name": "stdout"
        }
      ]
    },
    {
      "cell_type": "markdown",
      "metadata": {
        "id": "NvvTIdV3AMe-"
      },
      "source": [
        "Notice how we have over 100 thousand parameters (the weights and biases) to learn even though we are using only 2 hidden layers. For deep neural networks, this value can be, and often is, in millions.\n",
        "\n",
        "In order to get the approximation of our function, we just need to fit the model to our data. We will use only training set to do this learning and will reserve the test set for later when we want to check the accuracy of our model. This is because, if we used only one set for both training and testing, the results may be biased and our model may have simply memorized all the examples instead of learning the relationship between features and label."
      ]
    },
    {
      "cell_type": "markdown",
      "metadata": {
        "id": "hiIsnKVSAMe_"
      },
      "source": [
        "# Training the Model\n",
        "\n",
        "We are going to train the model for 5 epochs. Think of epoch like an iteration of all the examples going through the model. So, by setting the epochs to 3, we will go through all the training examples 3 times."
      ]
    },
    {
      "cell_type": "code",
      "metadata": {
        "id": "4gfLCBV8AMfA",
        "colab": {
          "base_uri": "https://localhost:8080/"
        },
        "outputId": "b394cde4-3600-4765-8ada-6964a132b2cc"
      },
      "source": [
        "h = model.fit(\n",
        "    x_train_norm,\n",
        "    y_train_encoded,\n",
        "    epochs = 3\n",
        ")"
      ],
      "execution_count": null,
      "outputs": [
        {
          "output_type": "stream",
          "text": [
            "Epoch 1/3\n",
            "1875/1875 [==============================] - 4s 2ms/step - loss: 0.3641 - accuracy: 0.8927\n",
            "Epoch 2/3\n",
            "1875/1875 [==============================] - 4s 2ms/step - loss: 0.1836 - accuracy: 0.9461\n",
            "Epoch 3/3\n",
            "1875/1875 [==============================] - 4s 2ms/step - loss: 0.1395 - accuracy: 0.9591\n"
          ],
          "name": "stdout"
        }
      ]
    },
    {
      "cell_type": "markdown",
      "metadata": {
        "id": "BR1JFwptAMfG"
      },
      "source": [
        "In order to ensure that this is not a simple \"memorization\" by the machine, we should evaluate the performance on the test set. This is easy to do, we simply use the `evaluate` method on our model."
      ]
    },
    {
      "cell_type": "code",
      "metadata": {
        "id": "-8_6HOCqAMfH"
      },
      "source": [
        "loss, accuracy = model.evaluate(x_test_norm, y_test_encoded)\n",
        "\n",
        "print('test set accuracy: ', accuracy * 100)"
      ],
      "execution_count": null,
      "outputs": []
    },
    {
      "cell_type": "markdown",
      "metadata": {
        "id": "q5dRTQs1AMfO"
      },
      "source": [
        "# Predictions"
      ]
    },
    {
      "cell_type": "code",
      "metadata": {
        "id": "9sNKg1gdAMfP",
        "colab": {
          "base_uri": "https://localhost:8080/"
        },
        "outputId": "232e2f12-bd7b-44b5-b98a-1dbb7e4f9bce"
      },
      "source": [
        "preds = model.predict(x_test_norm)\n",
        "\n",
        "print('shape of preds: ', preds.shape)"
      ],
      "execution_count": null,
      "outputs": [
        {
          "output_type": "stream",
          "text": [
            "shape of preds:  (10000, 10)\n"
          ],
          "name": "stdout"
        }
      ]
    },
    {
      "cell_type": "markdown",
      "metadata": {
        "id": "xnW4BW29AMfU"
      },
      "source": [
        "We probably can't go through all the 10000 predictions for now, but we can take a look at the first few. Let's plot the first few test set images along with their predicted and actual labels and see how our trained model actually performed."
      ]
    },
    {
      "cell_type": "code",
      "metadata": {
        "id": "P6FA-oXRAMfW",
        "colab": {
          "base_uri": "https://localhost:8080/",
          "height": 698
        },
        "outputId": "e44bd966-cbba-4072-c632-290e1efd269f"
      },
      "source": [
        "plt.figure(figsize = (12, 12))\n",
        "\n",
        "start_index = 0\n",
        "\n",
        "for i in range(25):\n",
        "    plt.subplot(5, 5, i + 1)\n",
        "    plt.grid(False)\n",
        "    plt.xticks([])\n",
        "    plt.yticks([])\n",
        "    pred = np.argmax(preds[start_index + i])\n",
        "    actual = np.argmax(y_test_encoded[start_index + i])\n",
        "    col = 'g'\n",
        "    if pred != actual:\n",
        "        col = 'r'\n",
        "    plt.xlabel('i={} | pred={} | true={}'.format(start_index + i, pred, actual), color = col)\n",
        "    plt.imshow(x_test[start_index + i], cmap='binary')\n",
        "plt.show()"
      ],
      "execution_count": null,
      "outputs": [
        {
          "output_type": "display_data",
          "data": {
            "image/png": "[encoded data removed]",
            "text/plain": [
              "<Figure size 864x864 with 25 Axes>"
            ]
          },
          "metadata": {
            "tags": []
          }
        }
      ]
    },
    {
      "cell_type": "markdown",
      "metadata": {
        "id": "-ur0btocAMfc"
      },
      "source": [
        "\n",
        "It gets most of the predictions right!"
      ]
    },
    {
      "cell_type": "code",
      "metadata": {
        "id": "shQqg1ocAMfd",
        "colab": {
          "base_uri": "https://localhost:8080/",
          "height": 265
        },
        "outputId": "a9f2fdb5-26a9-4f24-e45a-94938b6da441"
      },
      "source": [
        "\"\"\"\n",
        "Enter the index value in place of the value 8 below for the prediction\n",
        "that you want to plot the probability scores for\n",
        "\"\"\"\n",
        "index = 8\n",
        "\n",
        "plt.plot(preds[index])\n",
        "plt.show()"
      ],
      "execution_count": null,
      "outputs": [
        {
          "output_type": "display_data",
          "data": {
            "image/png": "[encoded data removed]",
            "text/plain": [
              "<Figure size 432x288 with 1 Axes>"
            ]
          },
          "metadata": {
            "tags": [],
            "needs_background": "light"
          }
        }
      ]
    },
    {
      "cell_type": "markdown",
      "metadata": {
        "id": "XYquCI3IAMfl"
      },
      "source": [
        "Hopefully this gave you an insight into using Tensorflow and its Keras implementation to get started with training Neural Networks!"
      ]
    }
  ]
}